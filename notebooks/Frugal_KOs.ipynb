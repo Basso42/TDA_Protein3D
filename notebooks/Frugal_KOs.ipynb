{
 "cells": [
  {
   "cell_type": "code",
   "execution_count": 12,
   "id": "f149494d-946a-4014-a3cd-a4cdc86b2cb4",
   "metadata": {},
   "outputs": [
    {
     "name": "stdout",
     "output_type": "stream",
     "text": [
      "Requirement already satisfied: biopython in /opt/mamba/lib/python3.10/site-packages (1.81)\n",
      "Collecting openpyxl\n",
      "  Downloading openpyxl-3.1.2-py2.py3-none-any.whl (249 kB)\n",
      "\u001b[2K     \u001b[90m━━━━━━━━━━━━━━━━━━━━━━━━━━━━━━━━━━━━━━\u001b[0m \u001b[32m250.0/250.0 kB\u001b[0m \u001b[31m17.9 MB/s\u001b[0m eta \u001b[36m0:00:00\u001b[0m\n",
      "\u001b[?25hRequirement already satisfied: numpy in /opt/mamba/lib/python3.10/site-packages (from biopython) (1.26.2)\n",
      "Collecting et-xmlfile (from openpyxl)\n",
      "  Downloading et_xmlfile-1.1.0-py3-none-any.whl (4.7 kB)\n",
      "Installing collected packages: et-xmlfile, openpyxl\n",
      "Successfully installed et-xmlfile-1.1.0 openpyxl-3.1.2\n"
     ]
    }
   ],
   "source": [
    "!pip install --upgrade biopython openpyxl"
   ]
  },
  {
   "cell_type": "code",
   "execution_count": 101,
   "id": "d99f0cdd-4840-4b3c-905e-578144d3fea1",
   "metadata": {},
   "outputs": [],
   "source": [
    "import polars as pl\n",
    "\n",
    "import pandas as pd\n",
    "import os\n",
    "from Bio.PDB import *\n",
    "from random import randint\n",
    "from time import sleep\n",
    "\n",
    "import sys\n",
    "sys.path.append('../')\n",
    "from src.functions import import_s3_parquet\n",
    "from src.ESM_functions import fetching_and_writing_3D\n"
   ]
  },
  {
   "cell_type": "code",
   "execution_count": 4,
   "id": "52e5a659-3c11-47f7-abd9-373e98d59aa8",
   "metadata": {},
   "outputs": [],
   "source": [
    "data_path = \"/home/onyxia/work/TDA_Protein3D/data/Tara_relevant_genes.parquet\"\n",
    "\n",
    "df = pl.read_parquet(data_path)"
   ]
  },
  {
   "cell_type": "code",
   "execution_count": 7,
   "id": "a381adba-d2fe-4fcc-ab76-604702980fc1",
   "metadata": {},
   "outputs": [
    {
     "name": "stdout",
     "output_type": "stream",
     "text": [
      "--2023-12-20 19:39:05--  https://zenodo.org/records/3539258/files/Salazar_et_al_2019_Suppl_Info.xlsx\n",
      "Resolving zenodo.org (zenodo.org)... 188.185.79.172, 188.184.103.159, 188.184.98.238, ...\n",
      "Connecting to zenodo.org (zenodo.org)|188.185.79.172|:443... connected.\n",
      "HTTP request sent, awaiting response... 200 OK\n",
      "Length: 304009 (297K) [application/octet-stream]\n",
      "Saving to: ‘Salazar_et_al_2019_Suppl_Info.xlsx’\n",
      "\n",
      "Salazar_et_al_2019_ 100%[===================>] 296.88K  --.-KB/s    in 0.05s   \n",
      "\n",
      "2023-12-20 19:39:06 (5.97 MB/s) - ‘Salazar_et_al_2019_Suppl_Info.xlsx’ saved [304009/304009]\n",
      "\n"
     ]
    }
   ],
   "source": [
    "!wget https://zenodo.org/records/3539258/files/Salazar_et_al_2019_Suppl_Info.xlsx"
   ]
  },
  {
   "cell_type": "code",
   "execution_count": 19,
   "id": "1a1a7eaf-df5f-4437-9b95-ffae9142d421",
   "metadata": {},
   "outputs": [
    {
     "name": "stderr",
     "output_type": "stream",
     "text": [
      "/opt/mamba/lib/python3.10/site-packages/openpyxl/worksheet/_reader.py:329: UserWarning: Unknown extension is not supported and will be removed\n",
      "  warn(msg)\n"
     ]
    }
   ],
   "source": [
    "excel_file = '/home/onyxia/work/TDA_Protein3D/notebooks/Salazar_et_al_2019_Suppl_Info.xlsx'\n",
    "\n",
    "\n",
    "sheet = pd.read_excel(excel_file, sheet_name='Table_W4')\n",
    "sheet.to_csv(\"/home/onyxia/work/TDA_Protein3D/data/Table_W4.csv\", index=False)"
   ]
  },
  {
   "cell_type": "code",
   "execution_count": 18,
   "id": "c71f083e-f9f6-4935-bb04-03453f15e815",
   "metadata": {},
   "outputs": [
    {
     "data": {
      "text/plain": [
       "dict_keys(['README', 'Table_W0', 'Table_W1', 'Table_W2', 'Table_W3', 'Table_W4', 'Table_W5', 'Table_W6', 'Table_W7'])"
      ]
     },
     "execution_count": 18,
     "metadata": {},
     "output_type": "execute_result"
    }
   ],
   "source": [
    "sheets"
   ]
  },
  {
   "cell_type": "code",
   "execution_count": 20,
   "id": "b1bee3b7-7392-4104-81eb-c5e92fd4e2be",
   "metadata": {},
   "outputs": [],
   "source": [
    "major_KO_s = ['K19736', 'K00275', 'K05934']"
   ]
  },
  {
   "cell_type": "code",
   "execution_count": 27,
   "id": "5c0ff699-0264-4695-b969-53c459566b2c",
   "metadata": {
    "scrolled": true
   },
   "outputs": [
    {
     "data": {
      "text/html": [
       "<div><style>\n",
       ".dataframe > thead > tr,\n",
       ".dataframe > tbody > tr {\n",
       "  text-align: right;\n",
       "  white-space: pre-wrap;\n",
       "}\n",
       "</style>\n",
       "<small>shape: (995_318, 15)</small><table border=\"1\" class=\"dataframe\"><thead><tr><th>gene</th><th>OM-RGC_ID</th><th>KO</th><th>OG</th><th>GC</th><th>Domain</th><th>Phylum</th><th>Class</th><th>Order</th><th>Family</th><th>Genus</th><th>Species</th><th>Strain</th><th>sequence</th><th>Prot</th></tr><tr><td>str</td><td>str</td><td>str</td><td>str</td><td>str</td><td>str</td><td>str</td><td>str</td><td>str</td><td>str</td><td>str</td><td>str</td><td>str</td><td>str</td><td>bool</td></tr></thead><tbody><tr><td>&quot;TARA_X00000036…</td><td>&quot;OM-RGC.v2.0263…</td><td>&quot;K03531&quot;</td><td>&quot;COG0206&quot;</td><td>null</td><td>&quot;Bacteria&quot;</td><td>&quot;Proteobacteria…</td><td>&quot;Alphaproteobac…</td><td>&quot;Pelagibacteral…</td><td>&quot;Pelagibacterac…</td><td>null</td><td>null</td><td>null</td><td>&quot;AACTTTAAAACACC…</td><td>false</td></tr><tr><td>&quot;TARA_X00000036…</td><td>&quot;OM-RGC.v2.0263…</td><td>&quot;K00147&quot;</td><td>&quot;COG0014&quot;</td><td>null</td><td>&quot;Bacteria&quot;</td><td>&quot;Proteobacteria…</td><td>&quot;Alphaproteobac…</td><td>&quot;Pelagibacteral…</td><td>&quot;Pelagibacterac…</td><td>&quot;Candidatus Pel…</td><td>null</td><td>null</td><td>&quot;CCACTTGGCGTTAT…</td><td>false</td></tr><tr><td>&quot;TARA_X00000036…</td><td>&quot;OM-RGC.v2.0263…</td><td>&quot;K03545&quot;</td><td>&quot;COG0544&quot;</td><td>null</td><td>&quot;Bacteria&quot;</td><td>&quot;Proteobacteria…</td><td>&quot;Gammaproteobac…</td><td>null</td><td>null</td><td>null</td><td>null</td><td>null</td><td>&quot;AATATCATTCAGAG…</td><td>false</td></tr><tr><td>&quot;TARA_X00000036…</td><td>&quot;OM-RGC.v2.0267…</td><td>&quot;K01895&quot;</td><td>&quot;COG0365&quot;</td><td>null</td><td>&quot;Bacteria&quot;</td><td>&quot;Proteobacteria…</td><td>&quot;Alphaproteobac…</td><td>null</td><td>null</td><td>null</td><td>null</td><td>null</td><td>&quot;GAAACTTATTTTTC…</td><td>false</td></tr><tr><td>&quot;TARA_X00000036…</td><td>&quot;OM-RGC.v2.0263…</td><td>&quot;K01907&quot;</td><td>&quot;COG0365&quot;</td><td>null</td><td>&quot;Bacteria&quot;</td><td>&quot;Proteobacteria…</td><td>&quot;Alphaproteobac…</td><td>&quot;Pelagibacteral…</td><td>&quot;Pelagibacterac…</td><td>&quot;Candidatus Pel…</td><td>null</td><td>null</td><td>&quot;AATCAAAAAGGGGA…</td><td>false</td></tr><tr><td>&quot;TARA_X00000036…</td><td>&quot;OM-RGC.v2.0260…</td><td>&quot;K00254&quot;</td><td>&quot;COG0167&quot;</td><td>null</td><td>&quot;Bacteria&quot;</td><td>&quot;Proteobacteria…</td><td>&quot;Alphaproteobac…</td><td>&quot;Pelagibacteral…</td><td>&quot;Pelagibacterac…</td><td>&quot;Candidatus Pel…</td><td>&quot;Candidatus Pel…</td><td>null</td><td>&quot;CTTAAACTTAATTT…</td><td>false</td></tr><tr><td>&quot;TARA_X00000036…</td><td>&quot;OM-RGC.v2.0263…</td><td>&quot;K00010&quot;</td><td>&quot;COG0673&quot;</td><td>null</td><td>&quot;Bacteria&quot;</td><td>&quot;Proteobacteria…</td><td>&quot;Alphaproteobac…</td><td>&quot;Pelagibacteral…</td><td>&quot;Pelagibacterac…</td><td>null</td><td>null</td><td>null</td><td>&quot;CCCGCTCCTCCTTC…</td><td>false</td></tr><tr><td>&quot;TARA_X00000036…</td><td>&quot;OM-RGC.v2.0298…</td><td>&quot;K00228&quot;</td><td>&quot;COG0408&quot;</td><td>null</td><td>&quot;Bacteria&quot;</td><td>&quot;Proteobacteria…</td><td>&quot;Alphaproteobac…</td><td>&quot;Pelagibacteral…</td><td>&quot;Pelagibacterac…</td><td>&quot;Candidatus Pel…</td><td>null</td><td>null</td><td>&quot;GTATTAAGGATGAT…</td><td>false</td></tr><tr><td>&quot;TARA_X00000036…</td><td>&quot;OM-RGC.v2.0263…</td><td>&quot;K03336&quot;</td><td>&quot;COG3962&quot;</td><td>null</td><td>&quot;Bacteria&quot;</td><td>&quot;Proteobacteria…</td><td>&quot;Alphaproteobac…</td><td>&quot;Pelagibacteral…</td><td>&quot;Pelagibacterac…</td><td>null</td><td>null</td><td>null</td><td>&quot;TCTTTTAAAGCTGT…</td><td>false</td></tr><tr><td>&quot;TARA_X00000036…</td><td>&quot;OM-RGC.v2.0277…</td><td>&quot;K00254&quot;</td><td>&quot;COG0167&quot;</td><td>null</td><td>&quot;Bacteria&quot;</td><td>&quot;Proteobacteria…</td><td>&quot;Alphaproteobac…</td><td>&quot;Pelagibacteral…</td><td>&quot;Pelagibacterac…</td><td>null</td><td>&quot;SAR11 cluster …</td><td>null</td><td>&quot;TTGAATAAACTAAA…</td><td>false</td></tr><tr><td>&quot;TARA_X00000036…</td><td>&quot;OM-RGC.v2.0263…</td><td>&quot;K01465&quot;</td><td>&quot;COG0044&quot;</td><td>null</td><td>&quot;Bacteria&quot;</td><td>null</td><td>null</td><td>null</td><td>null</td><td>null</td><td>null</td><td>null</td><td>&quot;AATCAATCAATTGG…</td><td>false</td></tr><tr><td>&quot;TARA_X00000036…</td><td>&quot;OM-RGC.v2.0335…</td><td>&quot;K10234&quot;</td><td>&quot;COG0395&quot;</td><td>null</td><td>&quot;Bacteria&quot;</td><td>&quot;Proteobacteria…</td><td>&quot;Alphaproteobac…</td><td>&quot;Pelagibacteral…</td><td>&quot;Pelagibacterac…</td><td>null</td><td>&quot;alpha proteoba…</td><td>null</td><td>&quot;AAATCACTACCCCA…</td><td>false</td></tr><tr><td>&hellip;</td><td>&hellip;</td><td>&hellip;</td><td>&hellip;</td><td>&hellip;</td><td>&hellip;</td><td>&hellip;</td><td>&hellip;</td><td>&hellip;</td><td>&hellip;</td><td>&hellip;</td><td>&hellip;</td><td>&hellip;</td><td>&hellip;</td><td>&hellip;</td></tr><tr><td>&quot;TARA_R11000159…</td><td>&quot;OM-RGC.v2.0176…</td><td>&quot;K06446&quot;</td><td>&quot;COG1960&quot;</td><td>null</td><td>&quot;Bacteria&quot;</td><td>&quot;Proteobacteria…</td><td>null</td><td>null</td><td>null</td><td>null</td><td>null</td><td>null</td><td>&quot;ATAAAAGGCGCACG…</td><td>false</td></tr><tr><td>&quot;TARA_R11000159…</td><td>&quot;OM-RGC.v2.0250…</td><td>&quot;K06446&quot;</td><td>&quot;COG1960&quot;</td><td>null</td><td>null</td><td>null</td><td>null</td><td>null</td><td>null</td><td>null</td><td>null</td><td>null</td><td>&quot;ATGATTCGTGACCA…</td><td>true</td></tr><tr><td>&quot;TARA_R11000159…</td><td>&quot;OM-RGC.v2.0077…</td><td>&quot;K03773&quot;</td><td>&quot;COG0545&quot;</td><td>null</td><td>&quot;Bacteria&quot;</td><td>&quot;Proteobacteria…</td><td>&quot;Gammaproteobac…</td><td>&quot;Pseudomonadale…</td><td>&quot;Moraxellaceae&quot;</td><td>&quot;Perlucidibaca&quot;</td><td>null</td><td>null</td><td>&quot;ATGGTTTATGCAAA…</td><td>true</td></tr><tr><td>&quot;TARA_R11000159…</td><td>&quot;OM-RGC.v2.0160…</td><td>&quot;K03634&quot;</td><td>&quot;COG2834&quot;</td><td>null</td><td>&quot;Bacteria&quot;</td><td>&quot;Proteobacteria…</td><td>&quot;Gammaproteobac…</td><td>&quot;Oceanospirilla…</td><td>&quot;Oleiphilaceae&quot;</td><td>&quot;Oleiphilus&quot;</td><td>null</td><td>null</td><td>&quot;ATGAATAAAACAAT…</td><td>true</td></tr><tr><td>&quot;TARA_R11000159…</td><td>&quot;OM-RGC.v2.0043…</td><td>&quot;K03688&quot;</td><td>&quot;COG0661&quot;</td><td>null</td><td>&quot;Bacteria&quot;</td><td>&quot;Proteobacteria…</td><td>&quot;Gammaproteobac…</td><td>&quot;Alteromonadale…</td><td>&quot;Shewanellaceae…</td><td>&quot;Shewanella&quot;</td><td>&quot;Shewanella fri…</td><td>&quot;Shewanella fri…</td><td>&quot;ATGCTTTGGGAAAC…</td><td>true</td></tr><tr><td>&quot;TARA_R11000159…</td><td>&quot;OM-RGC.v2.0019…</td><td>&quot;K03726&quot;</td><td>&quot;COG1204&quot;</td><td>null</td><td>&quot;Bacteria&quot;</td><td>&quot;Candidatus Hyd…</td><td>null</td><td>null</td><td>null</td><td>null</td><td>&quot;Candidatus Hyd…</td><td>null</td><td>&quot;GAAATCCTCAGCGA…</td><td>false</td></tr><tr><td>&quot;TARA_R11000159…</td><td>&quot;OM-RGC.v2.0181…</td><td>&quot;K00156&quot;</td><td>&quot;COG0028&quot;</td><td>null</td><td>&quot;Bacteria&quot;</td><td>&quot;Bacteroidetes&quot;</td><td>&quot;Flavobacteriia…</td><td>&quot;Flavobacterial…</td><td>&quot;Flavobacteriac…</td><td>null</td><td>null</td><td>null</td><td>&quot;GATGCCATATTTAC…</td><td>false</td></tr><tr><td>&quot;TARA_R11000159…</td><td>&quot;OM-RGC.v2.0065…</td><td>&quot;K00156&quot;</td><td>&quot;COG0028&quot;</td><td>null</td><td>&quot;Bacteria&quot;</td><td>&quot;Proteobacteria…</td><td>&quot;Gammaproteobac…</td><td>&quot;Alteromonadale…</td><td>&quot;Shewanellaceae…</td><td>&quot;Shewanella&quot;</td><td>null</td><td>null</td><td>&quot;ATGTCAAAAAATAT…</td><td>true</td></tr><tr><td>&quot;TARA_R11000159…</td><td>&quot;OM-RGC.v2.0218…</td><td>&quot;K00940&quot;</td><td>&quot;COG0105&quot;</td><td>null</td><td>&quot;Bacteria&quot;</td><td>&quot;Proteobacteria…</td><td>null</td><td>null</td><td>null</td><td>null</td><td>null</td><td>null</td><td>&quot;AACGGCATTGGCAG…</td><td>false</td></tr><tr><td>&quot;TARA_R11000159…</td><td>&quot;OM-RGC.v2.0169…</td><td>&quot;K01895&quot;</td><td>&quot;COG0365&quot;</td><td>null</td><td>&quot;Bacteria&quot;</td><td>null</td><td>null</td><td>null</td><td>null</td><td>null</td><td>null</td><td>null</td><td>&quot;GAAGCCTGGATCTG…</td><td>false</td></tr><tr><td>&quot;TARA_R11000159…</td><td>&quot;OM-RGC.v2.0046…</td><td>&quot;K01895&quot;</td><td>&quot;COG0365&quot;</td><td>null</td><td>&quot;Bacteria&quot;</td><td>null</td><td>null</td><td>null</td><td>null</td><td>null</td><td>null</td><td>null</td><td>&quot;ATGAGTCAACAGAT…</td><td>true</td></tr><tr><td>&quot;TARA_R11000159…</td><td>&quot;OM-RGC.v2.0130…</td><td>&quot;K01895&quot;</td><td>&quot;COG0365&quot;</td><td>null</td><td>null</td><td>null</td><td>null</td><td>null</td><td>null</td><td>null</td><td>null</td><td>null</td><td>&quot;TATAACAACTTTGA…</td><td>false</td></tr></tbody></table></div>"
      ],
      "text/plain": [
       "shape: (995_318, 15)\n",
       "┌────────────────┬───────────────┬────────┬─────────┬───┬─────────┬────────┬───────────────┬───────┐\n",
       "│ gene           ┆ OM-RGC_ID     ┆ KO     ┆ OG      ┆ … ┆ Species ┆ Strain ┆ sequence      ┆ Prot  │\n",
       "│ ---            ┆ ---           ┆ ---    ┆ ---     ┆   ┆ ---     ┆ ---    ┆ ---           ┆ ---   │\n",
       "│ str            ┆ str           ┆ str    ┆ str     ┆   ┆ str     ┆ str    ┆ str           ┆ bool  │\n",
       "╞════════════════╪═══════════════╪════════╪═════════╪═══╪═════════╪════════╪═══════════════╪═══════╡\n",
       "│ TARA_X00000036 ┆ OM-RGC.v2.026 ┆ K03531 ┆ COG0206 ┆ … ┆ null    ┆ null   ┆ AACTTTAAAACAC ┆ false │\n",
       "│ 8_G_C22366181_ ┆ 366502        ┆        ┆         ┆   ┆         ┆        ┆ CAGAGATAAAAGA ┆       │\n",
       "│ 1_ge…          ┆               ┆        ┆         ┆   ┆         ┆        ┆ GTTACA…       ┆       │\n",
       "│ TARA_X00000036 ┆ OM-RGC.v2.026 ┆ K00147 ┆ COG0014 ┆ … ┆ null    ┆ null   ┆ CCACTTGGCGTTA ┆ false │\n",
       "│ 8_G_C22367915_ ┆ 366588        ┆        ┆         ┆   ┆         ┆        ┆ TTGGTATAATATA ┆       │\n",
       "│ 1_ge…          ┆               ┆        ┆         ┆   ┆         ┆        ┆ TGAAAG…       ┆       │\n",
       "│ TARA_X00000036 ┆ OM-RGC.v2.026 ┆ K03545 ┆ COG0544 ┆ … ┆ null    ┆ null   ┆ AATATCATTCAGA ┆ false │\n",
       "│ 8_G_C22368449_ ┆ 366615        ┆        ┆         ┆   ┆         ┆        ┆ GCCAGTATGGCAA ┆       │\n",
       "│ 1_ge…          ┆               ┆        ┆         ┆   ┆         ┆        ┆ TCAGGT…       ┆       │\n",
       "│ TARA_X00000036 ┆ OM-RGC.v2.026 ┆ K01895 ┆ COG0365 ┆ … ┆ null    ┆ null   ┆ GAAACTTATTTTT ┆ false │\n",
       "│ 8_G_C22369051_ ┆ 732933        ┆        ┆         ┆   ┆         ┆        ┆ CTCAGTTTGATGG ┆       │\n",
       "│ 1_ge…          ┆               ┆        ┆         ┆   ┆         ┆        ┆ AAAGTA…       ┆       │\n",
       "│ …              ┆ …             ┆ …      ┆ …       ┆ … ┆ …       ┆ …      ┆ …             ┆ …     │\n",
       "│ TARA_R11000159 ┆ OM-RGC.v2.021 ┆ K00940 ┆ COG0105 ┆ … ┆ null    ┆ null   ┆ AACGGCATTGGCA ┆ false │\n",
       "│ 2_G_scaffold99 ┆ 842062        ┆        ┆         ┆   ┆         ┆        ┆ GCCGCCAATCGGC ┆       │\n",
       "│ 540_…          ┆               ┆        ┆         ┆   ┆         ┆        ┆ GCGCCA…       ┆       │\n",
       "│ TARA_R11000159 ┆ OM-RGC.v2.016 ┆ K01895 ┆ COG0365 ┆ … ┆ null    ┆ null   ┆ GAAGCCTGGATCT ┆ false │\n",
       "│ 2_G_scaffold99 ┆ 926211        ┆        ┆         ┆   ┆         ┆        ┆ GGTACCACAAGCA ┆       │\n",
       "│ 713_…          ┆               ┆        ┆         ┆   ┆         ┆        ┆ TATTGG…       ┆       │\n",
       "│ TARA_R11000159 ┆ OM-RGC.v2.004 ┆ K01895 ┆ COG0365 ┆ … ┆ null    ┆ null   ┆ ATGAGTCAACAGA ┆ true  │\n",
       "│ 2_G_scaffold99 ┆ 640879        ┆        ┆         ┆   ┆         ┆        ┆ TTGAACACGTCCT ┆       │\n",
       "│ 713_…          ┆               ┆        ┆         ┆   ┆         ┆        ┆ TGAAGA…       ┆       │\n",
       "│ TARA_R11000159 ┆ OM-RGC.v2.013 ┆ K01895 ┆ COG0365 ┆ … ┆ null    ┆ null   ┆ TATAACAACTTTG ┆ false │\n",
       "│ 2_G_scaffold99 ┆ 062172        ┆        ┆         ┆   ┆         ┆        ┆ ATCCCGCCGCTCT ┆       │\n",
       "│ 769_…          ┆               ┆        ┆         ┆   ┆         ┆        ┆ GGAAGC…       ┆       │\n",
       "└────────────────┴───────────────┴────────┴─────────┴───┴─────────┴────────┴───────────────┴───────┘"
      ]
     },
     "execution_count": 27,
     "metadata": {},
     "output_type": "execute_result"
    }
   ],
   "source": [
    "df"
   ]
  },
  {
   "cell_type": "code",
   "execution_count": 25,
   "id": "b81cea65-bf13-43be-b389-dea24efbd71e",
   "metadata": {},
   "outputs": [],
   "source": [
    "a = df.row(1)[0] "
   ]
  },
  {
   "cell_type": "code",
   "execution_count": 26,
   "id": "238e7217-cd0a-4129-a632-5c95056ede6e",
   "metadata": {},
   "outputs": [
    {
     "data": {
      "text/plain": [
       "'TARA_X000000368'"
      ]
     },
     "execution_count": 26,
     "metadata": {},
     "output_type": "execute_result"
    }
   ],
   "source": [
    "\"_\".join(a.split(\"_\", 2)[:2])"
   ]
  },
  {
   "cell_type": "code",
   "execution_count": 98,
   "id": "f6d436d5-5e50-48ae-a45e-59cbfeeabfc1",
   "metadata": {},
   "outputs": [],
   "source": [
    "def get_layers_for_kos(df_genes_path, list_kos, metadata_path):\n",
    "\n",
    "    # request creation\n",
    "    #q = (\n",
    "    df = pl.read_parquet(df_genes_path) \\\n",
    "           .filter(pl.col(\"KO\").is_in(list_kos)) \\\n",
    "           .with_columns(pl.col('gene').map_elements(lambda x: \"_\".join(x.split(\"_\", 2)[:2])).alias('sample')) # Lecture lazy, put your download path here\n",
    "        \n",
    "    print(df.select(pl.col('sample')))    \n",
    "#)\n",
    "    # request execution\n",
    "    #df = q.collect()\n",
    "    \n",
    "\n",
    "    layers = ['SRF', 'DCM', 'MES']\n",
    "    metadata = pl.read_csv(metadata_path)   \n",
    "    \n",
    "    for i, layer in enumerate(layers):\n",
    "        df_tmp = metadata.filter(pl.col('Layer') == layer)\n",
    "        \n",
    "        samples = df_tmp.select(pl.col('PANGAEA sample id')).rows()\n",
    "        globals()[layer] = [elem[0] for elem in samples]\n",
    "        print(type(globals()[layer]))\n",
    "        #for all genes that have been sampled \n",
    "        \n",
    "\n",
    "    df = df.with_columns(pl.when(pl.col(\"sample\").is_in(MES)).then(pl.lit('MES')) \\\n",
    "                            .when(pl.col(\"sample\").is_in(SRF)) \\\n",
    "                            .then(pl.lit('SRF')) \\\n",
    "                            .otherwise(pl.lit('DCM')) \\\n",
    "                            .alias('Layer') \n",
    ")\n",
    "\n",
    "\n",
    "    return df\n",
    "        \n",
    "        \n",
    "    "
   ]
  },
  {
   "cell_type": "code",
   "execution_count": 107,
   "id": "a0dff43d-c30d-4ba2-9d36-cc9f9c50ae80",
   "metadata": {},
   "outputs": [
    {
     "name": "stdout",
     "output_type": "stream",
     "text": [
      "shape: (64, 1)\n",
      "┌─────────────────┐\n",
      "│ sample          │\n",
      "│ ---             │\n",
      "│ str             │\n",
      "╞═════════════════╡\n",
      "│ TARA_A200000159 │\n",
      "│ TARA_A200000159 │\n",
      "│ TARA_A200000113 │\n",
      "│ TARA_E500000305 │\n",
      "│ …               │\n",
      "│ TARA_R110002167 │\n",
      "│ TARA_R110001606 │\n",
      "│ TARA_R110001583 │\n",
      "│ TARA_R110001583 │\n",
      "└─────────────────┘\n",
      "<class 'list'>\n",
      "<class 'list'>\n",
      "<class 'list'>\n"
     ]
    }
   ],
   "source": [
    "df = get_layers_for_kos(data_path, ['K19736'], \"/home/onyxia/work/TDA_Protein3D/data/Table_W4.csv\").select(pl.col([\"gene\",\"sequence\", \"Layer\"]))"
   ]
  },
  {
   "cell_type": "code",
   "execution_count": 103,
   "id": "bcceb76c-a493-4d61-8189-f469c22fd19b",
   "metadata": {
    "scrolled": true
   },
   "outputs": [
    {
     "data": {
      "text/html": [
       "<div><style>\n",
       ".dataframe > thead > tr,\n",
       ".dataframe > tbody > tr {\n",
       "  text-align: right;\n",
       "  white-space: pre-wrap;\n",
       "}\n",
       "</style>\n",
       "<small>shape: (64, 3)</small><table border=\"1\" class=\"dataframe\"><thead><tr><th>gene</th><th>sequence</th><th>Layer</th></tr><tr><td>str</td><td>str</td><td>str</td></tr></thead><tbody><tr><td>&quot;TARA_A20000015…</td><td>&quot;ATGACGGGCAACAC…</td><td>&quot;DCM&quot;</td></tr><tr><td>&quot;TARA_A20000015…</td><td>&quot;ATGATTGACGTTAC…</td><td>&quot;DCM&quot;</td></tr><tr><td>&quot;TARA_A20000011…</td><td>&quot;ATGACGGGCAACAC…</td><td>&quot;SRF&quot;</td></tr><tr><td>&quot;TARA_E50000030…</td><td>&quot;ATGAGACTGACTGA…</td><td>&quot;DCM&quot;</td></tr><tr><td>&quot;TARA_X00000138…</td><td>&quot;ATGACGACCACACG…</td><td>&quot;DCM&quot;</td></tr><tr><td>&quot;TARA_A10000139…</td><td>&quot;ATGATTGAACGCAT…</td><td>&quot;DCM&quot;</td></tr><tr><td>&quot;TARA_Y10000031…</td><td>&quot;TTTGAGAATTTCCA…</td><td>&quot;DCM&quot;</td></tr><tr><td>&quot;TARA_Y10000031…</td><td>&quot;ATGGTAGGCAATAC…</td><td>&quot;DCM&quot;</td></tr><tr><td>&quot;TARA_Y10000029…</td><td>&quot;ATGACGGGCAGCAC…</td><td>&quot;DCM&quot;</td></tr><tr><td>&quot;TARA_Y10000029…</td><td>&quot;ATGGTAGGCAATAC…</td><td>&quot;DCM&quot;</td></tr><tr><td>&quot;TARA_Y10000029…</td><td>&quot;ATGACAAAGATTAA…</td><td>&quot;DCM&quot;</td></tr><tr><td>&quot;TARA_Y10000003…</td><td>&quot;ATGAAGTTATCTGA…</td><td>&quot;DCM&quot;</td></tr><tr><td>&hellip;</td><td>&hellip;</td><td>&hellip;</td></tr><tr><td>&quot;TARA_R11000212…</td><td>&quot;ATGAAGTTATCAGA…</td><td>&quot;DCM&quot;</td></tr><tr><td>&quot;TARA_R11000212…</td><td>&quot;ATGAAACCAATGAA…</td><td>&quot;DCM&quot;</td></tr><tr><td>&quot;TARA_R11000212…</td><td>&quot;ATGAAACTAACCGA…</td><td>&quot;DCM&quot;</td></tr><tr><td>&quot;TARA_R11000085…</td><td>&quot;ATGAAACCAATGAA…</td><td>&quot;DCM&quot;</td></tr><tr><td>&quot;TARA_R11000082…</td><td>&quot;ACGGTGTACAACCA…</td><td>&quot;DCM&quot;</td></tr><tr><td>&quot;TARA_R11000074…</td><td>&quot;ATGAAGTTATCTGA…</td><td>&quot;DCM&quot;</td></tr><tr><td>&quot;TARA_R11000074…</td><td>&quot;ATGAAGTTATCAGA…</td><td>&quot;DCM&quot;</td></tr><tr><td>&quot;TARA_R11000075…</td><td>&quot;ATGACTAGTGCTAC…</td><td>&quot;DCM&quot;</td></tr><tr><td>&quot;TARA_R11000216…</td><td>&quot;ATGAATACAGAAAA…</td><td>&quot;DCM&quot;</td></tr><tr><td>&quot;TARA_R11000160…</td><td>&quot;ATGCCTCGTGCCCC…</td><td>&quot;DCM&quot;</td></tr><tr><td>&quot;TARA_R11000158…</td><td>&quot;ATGGAAAAAGCATT…</td><td>&quot;DCM&quot;</td></tr><tr><td>&quot;TARA_R11000158…</td><td>&quot;ATGGAAAAAGTATT…</td><td>&quot;DCM&quot;</td></tr></tbody></table></div>"
      ],
      "text/plain": [
       "shape: (64, 3)\n",
       "┌───────────────────────────────────┬───────────────────────────────────┬───────┐\n",
       "│ gene                              ┆ sequence                          ┆ Layer │\n",
       "│ ---                               ┆ ---                               ┆ ---   │\n",
       "│ str                               ┆ str                               ┆ str   │\n",
       "╞═══════════════════════════════════╪═══════════════════════════════════╪═══════╡\n",
       "│ TARA_A200000159_G_scaffold163948… ┆ ATGACGGGCAACACACGTACGCGAAGTGATGC… ┆ DCM   │\n",
       "│ TARA_A200000159_G_scaffold164955… ┆ ATGATTGACGTTACACGTAAGCGAAGCGATAA… ┆ DCM   │\n",
       "│ TARA_A200000113_G_C8854219_1_gen… ┆ ATGACGGGCAACACACGTACGCGAAGTGATGC… ┆ SRF   │\n",
       "│ TARA_E500000305_G_scaffold102147… ┆ ATGAGACTGACTGACCGGAAGCGCGCGGCGAT… ┆ DCM   │\n",
       "│ …                                 ┆ …                                 ┆ …     │\n",
       "│ TARA_R110002167_G_scaffold305579… ┆ ATGAATACAGAAAAACAAACTCGTAGCCAAAT… ┆ DCM   │\n",
       "│ TARA_R110001606_G_scaffold83958_… ┆ ATGCCTCGTGCCCCGCAACGTCTCACCGACCG… ┆ DCM   │\n",
       "│ TARA_R110001583_G_scaffold41411_… ┆ ATGGAAAAAGCATTAACCTTAACGGAAAAAAA… ┆ DCM   │\n",
       "│ TARA_R110001583_G_scaffold85821_… ┆ ATGGAAAAAGTATTAACCCTAACCCAAATAAA… ┆ DCM   │\n",
       "└───────────────────────────────────┴───────────────────────────────────┴───────┘"
      ]
     },
     "execution_count": 103,
     "metadata": {},
     "output_type": "execute_result"
    }
   ],
   "source": [
    "df"
   ]
  },
  {
   "cell_type": "code",
   "execution_count": 110,
   "id": "71fc2daf-5e6c-4827-b916-f25ba9108352",
   "metadata": {},
   "outputs": [],
   "source": [
    "from Bio.Seq import Seq\n",
    "\n",
    "df = df.with_columns(pl.col('sequence').map_elements(lambda x: str(Seq(x).translate(stop_symbol=''))))\n",
    "df = df.with_columns(pl.col(\"sequence\").str.len_bytes().alias(\"len_prot\"))\n",
    "small = df.filter(pl.col('len_prot')<=400) #no difference here"
   ]
  },
  {
   "cell_type": "code",
   "execution_count": 112,
   "id": "5a31fd8f-fe6a-46e0-a71d-9c3da322c61d",
   "metadata": {},
   "outputs": [],
   "source": [
    "KO_struct_path ='/home/onyxia/work/TDA_Protein3D/data/3D_for_KOs/K19736/struct/'\n",
    "KO_meta_path = '/home/onyxia/work/TDA_Protein3D/data/3D_for_KOs/K19736/metadata.parquet'\n",
    "\n",
    "metadata = pd.DataFrame({'Tara_ID': pd.Series(dtype='str'),\n",
    "               'Avg_pLDDT': pd.Series(dtype='float')})\n",
    "metadata = pl.DataFrame(metadata)\n",
    "metadata.write_parquet(KO_meta_path)"
   ]
  },
  {
   "cell_type": "code",
   "execution_count": null,
   "id": "ee375eaa-62c3-4303-984d-fd4abe779634",
   "metadata": {},
   "outputs": [
    {
     "name": "stderr",
     "output_type": "stream",
     "text": [
      "/opt/mamba/lib/python3.10/site-packages/urllib3/connectionpool.py:1061: InsecureRequestWarning: Unverified HTTPS request is being made to host 'api.esmatlas.com'. Adding certificate verification is strongly advised. See: https://urllib3.readthedocs.io/en/1.26.x/advanced-usage.html#ssl-warnings\n",
      "  warnings.warn(\n"
     ]
    },
    {
     "name": "stdout",
     "output_type": "stream",
     "text": [
      "Structure saved\n",
      "Metadata added\n",
      "0 TARA_A200000159_G_scaffold163948_1_gene191861\n"
     ]
    },
    {
     "name": "stderr",
     "output_type": "stream",
     "text": [
      "/opt/mamba/lib/python3.10/site-packages/urllib3/connectionpool.py:1061: InsecureRequestWarning: Unverified HTTPS request is being made to host 'api.esmatlas.com'. Adding certificate verification is strongly advised. See: https://urllib3.readthedocs.io/en/1.26.x/advanced-usage.html#ssl-warnings\n",
      "  warnings.warn(\n"
     ]
    },
    {
     "name": "stdout",
     "output_type": "stream",
     "text": [
      "Structure saved\n",
      "Metadata added\n",
      "1 TARA_A200000159_G_scaffold164955_1_gene198109\n"
     ]
    },
    {
     "name": "stderr",
     "output_type": "stream",
     "text": [
      "/opt/mamba/lib/python3.10/site-packages/urllib3/connectionpool.py:1061: InsecureRequestWarning: Unverified HTTPS request is being made to host 'api.esmatlas.com'. Adding certificate verification is strongly advised. See: https://urllib3.readthedocs.io/en/1.26.x/advanced-usage.html#ssl-warnings\n",
      "  warnings.warn(\n"
     ]
    },
    {
     "name": "stdout",
     "output_type": "stream",
     "text": [
      "Structure saved\n",
      "Metadata added\n",
      "2 TARA_A200000113_G_C8854219_1_gene351293\n"
     ]
    },
    {
     "name": "stderr",
     "output_type": "stream",
     "text": [
      "/opt/mamba/lib/python3.10/site-packages/urllib3/connectionpool.py:1061: InsecureRequestWarning: Unverified HTTPS request is being made to host 'api.esmatlas.com'. Adding certificate verification is strongly advised. See: https://urllib3.readthedocs.io/en/1.26.x/advanced-usage.html#ssl-warnings\n",
      "  warnings.warn(\n"
     ]
    },
    {
     "name": "stdout",
     "output_type": "stream",
     "text": [
      "Structure saved\n",
      "Metadata added\n",
      "3 TARA_E500000305_G_scaffold102147_1_gene96421\n"
     ]
    },
    {
     "name": "stderr",
     "output_type": "stream",
     "text": [
      "/opt/mamba/lib/python3.10/site-packages/urllib3/connectionpool.py:1061: InsecureRequestWarning: Unverified HTTPS request is being made to host 'api.esmatlas.com'. Adding certificate verification is strongly advised. See: https://urllib3.readthedocs.io/en/1.26.x/advanced-usage.html#ssl-warnings\n",
      "  warnings.warn(\n"
     ]
    },
    {
     "name": "stdout",
     "output_type": "stream",
     "text": [
      "Structure saved\n",
      "Metadata added\n",
      "4 TARA_X000001388_G_scaffold22864_2_gene15558\n"
     ]
    },
    {
     "name": "stderr",
     "output_type": "stream",
     "text": [
      "/opt/mamba/lib/python3.10/site-packages/urllib3/connectionpool.py:1061: InsecureRequestWarning: Unverified HTTPS request is being made to host 'api.esmatlas.com'. Adding certificate verification is strongly advised. See: https://urllib3.readthedocs.io/en/1.26.x/advanced-usage.html#ssl-warnings\n",
      "  warnings.warn(\n"
     ]
    },
    {
     "name": "stdout",
     "output_type": "stream",
     "text": [
      "Structure saved\n",
      "Metadata added\n",
      "5 TARA_A100001391_G_scaffold189411_1_gene160853\n"
     ]
    },
    {
     "name": "stderr",
     "output_type": "stream",
     "text": [
      "/opt/mamba/lib/python3.10/site-packages/urllib3/connectionpool.py:1061: InsecureRequestWarning: Unverified HTTPS request is being made to host 'api.esmatlas.com'. Adding certificate verification is strongly advised. See: https://urllib3.readthedocs.io/en/1.26.x/advanced-usage.html#ssl-warnings\n",
      "  warnings.warn(\n"
     ]
    },
    {
     "name": "stdout",
     "output_type": "stream",
     "text": [
      "Structure saved\n",
      "Metadata added\n",
      "6 TARA_Y100000310_G_scaffold270839_1_gene284867\n"
     ]
    },
    {
     "name": "stderr",
     "output_type": "stream",
     "text": [
      "/opt/mamba/lib/python3.10/site-packages/urllib3/connectionpool.py:1061: InsecureRequestWarning: Unverified HTTPS request is being made to host 'api.esmatlas.com'. Adding certificate verification is strongly advised. See: https://urllib3.readthedocs.io/en/1.26.x/advanced-usage.html#ssl-warnings\n",
      "  warnings.warn(\n"
     ]
    },
    {
     "name": "stdout",
     "output_type": "stream",
     "text": [
      "Structure saved\n",
      "Metadata added\n",
      "7 TARA_Y100000310_G_scaffold296856_1_gene329445\n"
     ]
    },
    {
     "name": "stderr",
     "output_type": "stream",
     "text": [
      "/opt/mamba/lib/python3.10/site-packages/urllib3/connectionpool.py:1061: InsecureRequestWarning: Unverified HTTPS request is being made to host 'api.esmatlas.com'. Adding certificate verification is strongly advised. See: https://urllib3.readthedocs.io/en/1.26.x/advanced-usage.html#ssl-warnings\n",
      "  warnings.warn(\n"
     ]
    },
    {
     "name": "stdout",
     "output_type": "stream",
     "text": [
      "Structure saved\n",
      "Metadata added\n",
      "8 TARA_Y100000296_G_C5176118_1_gene260176\n"
     ]
    },
    {
     "name": "stderr",
     "output_type": "stream",
     "text": [
      "/opt/mamba/lib/python3.10/site-packages/urllib3/connectionpool.py:1061: InsecureRequestWarning: Unverified HTTPS request is being made to host 'api.esmatlas.com'. Adding certificate verification is strongly advised. See: https://urllib3.readthedocs.io/en/1.26.x/advanced-usage.html#ssl-warnings\n",
      "  warnings.warn(\n"
     ]
    },
    {
     "name": "stdout",
     "output_type": "stream",
     "text": [
      "Structure saved\n",
      "Metadata added\n",
      "9 TARA_Y100000296_G_scaffold39018_1_gene45124\n"
     ]
    },
    {
     "name": "stderr",
     "output_type": "stream",
     "text": [
      "/opt/mamba/lib/python3.10/site-packages/urllib3/connectionpool.py:1061: InsecureRequestWarning: Unverified HTTPS request is being made to host 'api.esmatlas.com'. Adding certificate verification is strongly advised. See: https://urllib3.readthedocs.io/en/1.26.x/advanced-usage.html#ssl-warnings\n",
      "  warnings.warn(\n"
     ]
    },
    {
     "name": "stdout",
     "output_type": "stream",
     "text": [
      "Structure saved\n",
      "Metadata added\n",
      "10 TARA_Y100000296_G_scaffold84269_1_gene117142\n"
     ]
    },
    {
     "name": "stderr",
     "output_type": "stream",
     "text": [
      "/opt/mamba/lib/python3.10/site-packages/urllib3/connectionpool.py:1061: InsecureRequestWarning: Unverified HTTPS request is being made to host 'api.esmatlas.com'. Adding certificate verification is strongly advised. See: https://urllib3.readthedocs.io/en/1.26.x/advanced-usage.html#ssl-warnings\n",
      "  warnings.warn(\n"
     ]
    },
    {
     "name": "stdout",
     "output_type": "stream",
     "text": [
      "Structure saved\n",
      "Metadata added\n",
      "11 TARA_Y100000034_G_scaffold132275_1_gene194859\n"
     ]
    },
    {
     "name": "stderr",
     "output_type": "stream",
     "text": [
      "/opt/mamba/lib/python3.10/site-packages/urllib3/connectionpool.py:1061: InsecureRequestWarning: Unverified HTTPS request is being made to host 'api.esmatlas.com'. Adding certificate verification is strongly advised. See: https://urllib3.readthedocs.io/en/1.26.x/advanced-usage.html#ssl-warnings\n",
      "  warnings.warn(\n"
     ]
    },
    {
     "name": "stdout",
     "output_type": "stream",
     "text": [
      "Structure saved\n",
      "Metadata added\n",
      "12 TARA_R100000149_G_scaffold6334_2_gene1778\n"
     ]
    },
    {
     "name": "stderr",
     "output_type": "stream",
     "text": [
      "/opt/mamba/lib/python3.10/site-packages/urllib3/connectionpool.py:1061: InsecureRequestWarning: Unverified HTTPS request is being made to host 'api.esmatlas.com'. Adding certificate verification is strongly advised. See: https://urllib3.readthedocs.io/en/1.26.x/advanced-usage.html#ssl-warnings\n",
      "  warnings.warn(\n"
     ]
    },
    {
     "name": "stdout",
     "output_type": "stream",
     "text": [
      "Structure saved\n",
      "Metadata added\n",
      "13 TARA_Y100000758_G_C16063420_1_gene425431\n"
     ]
    },
    {
     "name": "stderr",
     "output_type": "stream",
     "text": [
      "/opt/mamba/lib/python3.10/site-packages/urllib3/connectionpool.py:1061: InsecureRequestWarning: Unverified HTTPS request is being made to host 'api.esmatlas.com'. Adding certificate verification is strongly advised. See: https://urllib3.readthedocs.io/en/1.26.x/advanced-usage.html#ssl-warnings\n",
      "  warnings.warn(\n"
     ]
    },
    {
     "name": "stdout",
     "output_type": "stream",
     "text": [
      "Structure saved\n",
      "Metadata added\n",
      "14 TARA_Y100000758_G_scaffold260854_1_gene198940\n"
     ]
    },
    {
     "name": "stderr",
     "output_type": "stream",
     "text": [
      "/opt/mamba/lib/python3.10/site-packages/urllib3/connectionpool.py:1061: InsecureRequestWarning: Unverified HTTPS request is being made to host 'api.esmatlas.com'. Adding certificate verification is strongly advised. See: https://urllib3.readthedocs.io/en/1.26.x/advanced-usage.html#ssl-warnings\n",
      "  warnings.warn(\n"
     ]
    },
    {
     "name": "stdout",
     "output_type": "stream",
     "text": [
      "Structure saved\n",
      "Metadata added\n",
      "15 TARA_Y100000782_G_scaffold11901_1_gene12724\n"
     ]
    },
    {
     "name": "stderr",
     "output_type": "stream",
     "text": [
      "/opt/mamba/lib/python3.10/site-packages/urllib3/connectionpool.py:1061: InsecureRequestWarning: Unverified HTTPS request is being made to host 'api.esmatlas.com'. Adding certificate verification is strongly advised. See: https://urllib3.readthedocs.io/en/1.26.x/advanced-usage.html#ssl-warnings\n",
      "  warnings.warn(\n"
     ]
    },
    {
     "name": "stdout",
     "output_type": "stream",
     "text": [
      "Structure saved\n",
      "Metadata added\n",
      "16 TARA_Y100000782_G_scaffold84875_1_gene92018\n"
     ]
    },
    {
     "name": "stderr",
     "output_type": "stream",
     "text": [
      "/opt/mamba/lib/python3.10/site-packages/urllib3/connectionpool.py:1061: InsecureRequestWarning: Unverified HTTPS request is being made to host 'api.esmatlas.com'. Adding certificate verification is strongly advised. See: https://urllib3.readthedocs.io/en/1.26.x/advanced-usage.html#ssl-warnings\n",
      "  warnings.warn(\n"
     ]
    },
    {
     "name": "stdout",
     "output_type": "stream",
     "text": [
      "Structure saved\n",
      "Metadata added\n",
      "17 TARA_B100000446_G_scaffold182579_1_gene201331\n"
     ]
    },
    {
     "name": "stderr",
     "output_type": "stream",
     "text": [
      "/opt/mamba/lib/python3.10/site-packages/urllib3/connectionpool.py:1061: InsecureRequestWarning: Unverified HTTPS request is being made to host 'api.esmatlas.com'. Adding certificate verification is strongly advised. See: https://urllib3.readthedocs.io/en/1.26.x/advanced-usage.html#ssl-warnings\n",
      "  warnings.warn(\n"
     ]
    },
    {
     "name": "stdout",
     "output_type": "stream",
     "text": [
      "Structure saved\n",
      "Metadata added\n",
      "18 TARA_Y100000780_G_C13692767_1_gene420212\n"
     ]
    },
    {
     "name": "stderr",
     "output_type": "stream",
     "text": [
      "/opt/mamba/lib/python3.10/site-packages/urllib3/connectionpool.py:1061: InsecureRequestWarning: Unverified HTTPS request is being made to host 'api.esmatlas.com'. Adding certificate verification is strongly advised. See: https://urllib3.readthedocs.io/en/1.26.x/advanced-usage.html#ssl-warnings\n",
      "  warnings.warn(\n"
     ]
    },
    {
     "name": "stdout",
     "output_type": "stream",
     "text": [
      "Structure saved\n",
      "Metadata added\n",
      "19 TARA_Y100000815_G_scaffold74442_1_gene63227\n"
     ]
    },
    {
     "name": "stderr",
     "output_type": "stream",
     "text": [
      "/opt/mamba/lib/python3.10/site-packages/urllib3/connectionpool.py:1061: InsecureRequestWarning: Unverified HTTPS request is being made to host 'api.esmatlas.com'. Adding certificate verification is strongly advised. See: https://urllib3.readthedocs.io/en/1.26.x/advanced-usage.html#ssl-warnings\n",
      "  warnings.warn(\n"
     ]
    },
    {
     "name": "stdout",
     "output_type": "stream",
     "text": [
      "Structure saved\n",
      "Metadata added\n",
      "20 TARA_R100001377_G_C3110168_1_gene82258\n"
     ]
    },
    {
     "name": "stderr",
     "output_type": "stream",
     "text": [
      "/opt/mamba/lib/python3.10/site-packages/urllib3/connectionpool.py:1061: InsecureRequestWarning: Unverified HTTPS request is being made to host 'api.esmatlas.com'. Adding certificate verification is strongly advised. See: https://urllib3.readthedocs.io/en/1.26.x/advanced-usage.html#ssl-warnings\n",
      "  warnings.warn(\n"
     ]
    },
    {
     "name": "stdout",
     "output_type": "stream",
     "text": [
      "Structure saved\n",
      "Metadata added\n",
      "21 TARA_B100001059_G_scaffold192261_1_gene195719\n"
     ]
    },
    {
     "name": "stderr",
     "output_type": "stream",
     "text": [
      "/opt/mamba/lib/python3.10/site-packages/urllib3/connectionpool.py:1061: InsecureRequestWarning: Unverified HTTPS request is being made to host 'api.esmatlas.com'. Adding certificate verification is strongly advised. See: https://urllib3.readthedocs.io/en/1.26.x/advanced-usage.html#ssl-warnings\n",
      "  warnings.warn(\n"
     ]
    },
    {
     "name": "stdout",
     "output_type": "stream",
     "text": [
      "Structure saved\n",
      "Metadata added\n",
      "22 TARA_B100001059_G_scaffold228992_1_gene260878\n"
     ]
    },
    {
     "name": "stderr",
     "output_type": "stream",
     "text": [
      "/opt/mamba/lib/python3.10/site-packages/urllib3/connectionpool.py:1061: InsecureRequestWarning: Unverified HTTPS request is being made to host 'api.esmatlas.com'. Adding certificate verification is strongly advised. See: https://urllib3.readthedocs.io/en/1.26.x/advanced-usage.html#ssl-warnings\n",
      "  warnings.warn(\n"
     ]
    },
    {
     "name": "stdout",
     "output_type": "stream",
     "text": [
      "Structure saved\n",
      "Metadata added\n",
      "23 TARA_B100001063_G_scaffold233305_1_gene249362\n"
     ]
    },
    {
     "name": "stderr",
     "output_type": "stream",
     "text": [
      "/opt/mamba/lib/python3.10/site-packages/urllib3/connectionpool.py:1061: InsecureRequestWarning: Unverified HTTPS request is being made to host 'api.esmatlas.com'. Adding certificate verification is strongly advised. See: https://urllib3.readthedocs.io/en/1.26.x/advanced-usage.html#ssl-warnings\n",
      "  warnings.warn(\n"
     ]
    },
    {
     "name": "stdout",
     "output_type": "stream",
     "text": [
      "Structure saved\n",
      "Metadata added\n",
      "24 TARA_B100001063_G_scaffold247075_1_gene289956\n"
     ]
    },
    {
     "name": "stderr",
     "output_type": "stream",
     "text": [
      "/opt/mamba/lib/python3.10/site-packages/urllib3/connectionpool.py:1061: InsecureRequestWarning: Unverified HTTPS request is being made to host 'api.esmatlas.com'. Adding certificate verification is strongly advised. See: https://urllib3.readthedocs.io/en/1.26.x/advanced-usage.html#ssl-warnings\n",
      "  warnings.warn(\n"
     ]
    },
    {
     "name": "stdout",
     "output_type": "stream",
     "text": [
      "Structure saved\n",
      "Metadata added\n",
      "25 TARA_R100000687_G_scaffold51608_1_gene41105\n"
     ]
    },
    {
     "name": "stderr",
     "output_type": "stream",
     "text": [
      "/opt/mamba/lib/python3.10/site-packages/urllib3/connectionpool.py:1061: InsecureRequestWarning: Unverified HTTPS request is being made to host 'api.esmatlas.com'. Adding certificate verification is strongly advised. See: https://urllib3.readthedocs.io/en/1.26.x/advanced-usage.html#ssl-warnings\n",
      "  warnings.warn(\n"
     ]
    },
    {
     "name": "stdout",
     "output_type": "stream",
     "text": [
      "Structure saved\n",
      "Metadata added\n",
      "26 TARA_Y100001956_G_C4121200_1_gene187515\n"
     ]
    },
    {
     "name": "stderr",
     "output_type": "stream",
     "text": [
      "/opt/mamba/lib/python3.10/site-packages/urllib3/connectionpool.py:1061: InsecureRequestWarning: Unverified HTTPS request is being made to host 'api.esmatlas.com'. Adding certificate verification is strongly advised. See: https://urllib3.readthedocs.io/en/1.26.x/advanced-usage.html#ssl-warnings\n",
      "  warnings.warn(\n"
     ]
    },
    {
     "name": "stdout",
     "output_type": "stream",
     "text": [
      "Structure saved\n",
      "Metadata added\n",
      "27 TARA_Y100001956_G_C4127140_1_gene190839\n"
     ]
    },
    {
     "name": "stderr",
     "output_type": "stream",
     "text": [
      "/opt/mamba/lib/python3.10/site-packages/urllib3/connectionpool.py:1061: InsecureRequestWarning: Unverified HTTPS request is being made to host 'api.esmatlas.com'. Adding certificate verification is strongly advised. See: https://urllib3.readthedocs.io/en/1.26.x/advanced-usage.html#ssl-warnings\n",
      "  warnings.warn(\n"
     ]
    },
    {
     "name": "stdout",
     "output_type": "stream",
     "text": [
      "Structure saved\n",
      "Metadata added\n",
      "28 TARA_Y100001956_G_scaffold60846_1_gene60559\n"
     ]
    },
    {
     "name": "stderr",
     "output_type": "stream",
     "text": [
      "/opt/mamba/lib/python3.10/site-packages/urllib3/connectionpool.py:1061: InsecureRequestWarning: Unverified HTTPS request is being made to host 'api.esmatlas.com'. Adding certificate verification is strongly advised. See: https://urllib3.readthedocs.io/en/1.26.x/advanced-usage.html#ssl-warnings\n",
      "  warnings.warn(\n"
     ]
    },
    {
     "name": "stdout",
     "output_type": "stream",
     "text": [
      "Structure saved\n",
      "Metadata added\n",
      "29 TARA_Y100001937_G_scaffold104248_1_gene144068\n"
     ]
    },
    {
     "name": "stderr",
     "output_type": "stream",
     "text": [
      "/opt/mamba/lib/python3.10/site-packages/urllib3/connectionpool.py:1061: InsecureRequestWarning: Unverified HTTPS request is being made to host 'api.esmatlas.com'. Adding certificate verification is strongly advised. See: https://urllib3.readthedocs.io/en/1.26.x/advanced-usage.html#ssl-warnings\n",
      "  warnings.warn(\n"
     ]
    },
    {
     "name": "stdout",
     "output_type": "stream",
     "text": [
      "Structure saved\n",
      "Metadata added\n",
      "30 TARA_Y100000589_G_C27077873_1_gene598299\n"
     ]
    },
    {
     "name": "stderr",
     "output_type": "stream",
     "text": [
      "/opt/mamba/lib/python3.10/site-packages/urllib3/connectionpool.py:1061: InsecureRequestWarning: Unverified HTTPS request is being made to host 'api.esmatlas.com'. Adding certificate verification is strongly advised. See: https://urllib3.readthedocs.io/en/1.26.x/advanced-usage.html#ssl-warnings\n",
      "  warnings.warn(\n"
     ]
    },
    {
     "name": "stdout",
     "output_type": "stream",
     "text": [
      "Structure saved\n",
      "Metadata added\n",
      "31 TARA_Y100000588_G_C14000192_1_gene815297\n"
     ]
    },
    {
     "name": "stderr",
     "output_type": "stream",
     "text": [
      "/opt/mamba/lib/python3.10/site-packages/urllib3/connectionpool.py:1061: InsecureRequestWarning: Unverified HTTPS request is being made to host 'api.esmatlas.com'. Adding certificate verification is strongly advised. See: https://urllib3.readthedocs.io/en/1.26.x/advanced-usage.html#ssl-warnings\n",
      "  warnings.warn(\n"
     ]
    },
    {
     "name": "stdout",
     "output_type": "stream",
     "text": [
      "Structure saved\n",
      "Metadata added\n",
      "32 TARA_Y100000588_G_C14189736_1_gene897474\n"
     ]
    },
    {
     "name": "stderr",
     "output_type": "stream",
     "text": [
      "/opt/mamba/lib/python3.10/site-packages/urllib3/connectionpool.py:1061: InsecureRequestWarning: Unverified HTTPS request is being made to host 'api.esmatlas.com'. Adding certificate verification is strongly advised. See: https://urllib3.readthedocs.io/en/1.26.x/advanced-usage.html#ssl-warnings\n",
      "  warnings.warn(\n"
     ]
    }
   ],
   "source": [
    "for i, row in enumerate(df.rows(named=True)):\n",
    "       \n",
    "       seq = row['sequence']\n",
    "       id = row['gene']\n",
    "       fetching_and_writing_3D(seq, id, KO_struct_path, KO_meta_path)\n",
    "       \n",
    "       print(i, id)\n",
    "  \n"
   ]
  },
  {
   "cell_type": "code",
   "execution_count": 71,
   "id": "9431188d-3183-420a-969f-bb3d21586820",
   "metadata": {},
   "outputs": [],
   "source": [
    "df = df.filter(pl.col(\"KO\").is_in(['K19736'])) "
   ]
  },
  {
   "cell_type": "code",
   "execution_count": 31,
   "id": "d8f55884-a59c-4956-ad29-4abc68ee2f0c",
   "metadata": {},
   "outputs": [],
   "source": [
    "test = ['test1', 'test2', 'test3']\n",
    "for i in test:\n",
    "    globals()[i] = '12' + i"
   ]
  }
 ],
 "metadata": {
  "kernelspec": {
   "display_name": "Python 3 (ipykernel)",
   "language": "python",
   "name": "python3"
  },
  "language_info": {
   "codemirror_mode": {
    "name": "ipython",
    "version": 3
   },
   "file_extension": ".py",
   "mimetype": "text/x-python",
   "name": "python",
   "nbconvert_exporter": "python",
   "pygments_lexer": "ipython3",
   "version": "3.10.13"
  }
 },
 "nbformat": 4,
 "nbformat_minor": 5
}
