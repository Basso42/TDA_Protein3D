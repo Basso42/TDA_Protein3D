{
 "cells": [
  {
   "cell_type": "code",
   "execution_count": 1,
   "id": "6ffd31ea-b652-4721-84c8-a7f60ea5394b",
   "metadata": {},
   "outputs": [
    {
     "name": "stdout",
     "output_type": "stream",
     "text": [
      "--2023-11-23 21:16:14--  https://alphafold.ebi.ac.uk/files/AF-P04637-F1-model_v4.cif\n",
      "Resolving alphafold.ebi.ac.uk (alphafold.ebi.ac.uk)... 34.149.152.8\n",
      "Connecting to alphafold.ebi.ac.uk (alphafold.ebi.ac.uk)|34.149.152.8|:443... connected.\n",
      "HTTP request sent, awaiting response... 200 OK\n",
      "Length: unspecified [application/octet-stream]\n",
      "Saving to: ‘AF-P04637-F1-model_v4.cif’\n",
      "\n",
      "AF-P04637-F1-model_     [ <=>                ] 351.36K  --.-KB/s    in 0.04s   \n",
      "\n",
      "2023-11-23 21:16:15 (7.92 MB/s) - ‘AF-P04637-F1-model_v4.cif’ saved [359793]\n",
      "\n"
     ]
    }
   ],
   "source": [
    "!wget https://alphafold.ebi.ac.uk/files/AF-P04637-F1-model_v4.cif"
   ]
  },
  {
   "cell_type": "code",
   "execution_count": 9,
   "id": "8cec94b6-fe76-4b6e-bc93-88d652f852a6",
   "metadata": {
    "scrolled": true
   },
   "outputs": [
    {
     "name": "stdout",
     "output_type": "stream",
     "text": [
      "Requirement already satisfied: biopython in /opt/mamba/lib/python3.10/site-packages (1.81)\n",
      "Requirement already satisfied: nglview in /opt/mamba/lib/python3.10/site-packages (3.0.8)\n",
      "Requirement already satisfied: ipywidgets in /opt/mamba/lib/python3.10/site-packages (8.1.1)\n",
      "Requirement already satisfied: numpy in /opt/mamba/lib/python3.10/site-packages (from biopython) (1.26.0)\n",
      "Requirement already satisfied: jupyterlab-widgets in /opt/mamba/lib/python3.10/site-packages (from nglview) (3.0.9)\n",
      "Requirement already satisfied: comm>=0.1.3 in /opt/mamba/lib/python3.10/site-packages (from ipywidgets) (0.1.4)\n",
      "Requirement already satisfied: ipython>=6.1.0 in /opt/mamba/lib/python3.10/site-packages (from ipywidgets) (8.17.2)\n",
      "Requirement already satisfied: traitlets>=4.3.1 in /opt/mamba/lib/python3.10/site-packages (from ipywidgets) (5.13.0)\n",
      "Requirement already satisfied: widgetsnbextension~=4.0.9 in /opt/mamba/lib/python3.10/site-packages (from ipywidgets) (4.0.9)\n",
      "Requirement already satisfied: decorator in /opt/mamba/lib/python3.10/site-packages (from ipython>=6.1.0->ipywidgets) (5.1.1)\n",
      "Requirement already satisfied: jedi>=0.16 in /opt/mamba/lib/python3.10/site-packages (from ipython>=6.1.0->ipywidgets) (0.19.1)\n",
      "Requirement already satisfied: matplotlib-inline in /opt/mamba/lib/python3.10/site-packages (from ipython>=6.1.0->ipywidgets) (0.1.6)\n",
      "Requirement already satisfied: prompt-toolkit!=3.0.37,<3.1.0,>=3.0.30 in /opt/mamba/lib/python3.10/site-packages (from ipython>=6.1.0->ipywidgets) (3.0.41)\n",
      "Requirement already satisfied: pygments>=2.4.0 in /opt/mamba/lib/python3.10/site-packages (from ipython>=6.1.0->ipywidgets) (2.17.0)\n",
      "Requirement already satisfied: stack-data in /opt/mamba/lib/python3.10/site-packages (from ipython>=6.1.0->ipywidgets) (0.6.2)\n",
      "Requirement already satisfied: exceptiongroup in /opt/mamba/lib/python3.10/site-packages (from ipython>=6.1.0->ipywidgets) (1.1.3)\n",
      "Requirement already satisfied: pexpect>4.3 in /opt/mamba/lib/python3.10/site-packages (from ipython>=6.1.0->ipywidgets) (4.8.0)\n",
      "Requirement already satisfied: parso<0.9.0,>=0.8.3 in /opt/mamba/lib/python3.10/site-packages (from jedi>=0.16->ipython>=6.1.0->ipywidgets) (0.8.3)\n",
      "Requirement already satisfied: ptyprocess>=0.5 in /opt/mamba/lib/python3.10/site-packages (from pexpect>4.3->ipython>=6.1.0->ipywidgets) (0.7.0)\n",
      "Requirement already satisfied: wcwidth in /opt/mamba/lib/python3.10/site-packages (from prompt-toolkit!=3.0.37,<3.1.0,>=3.0.30->ipython>=6.1.0->ipywidgets) (0.2.10)\n",
      "Requirement already satisfied: executing>=1.2.0 in /opt/mamba/lib/python3.10/site-packages (from stack-data->ipython>=6.1.0->ipywidgets) (2.0.1)\n",
      "Requirement already satisfied: asttokens>=2.1.0 in /opt/mamba/lib/python3.10/site-packages (from stack-data->ipython>=6.1.0->ipywidgets) (2.4.1)\n",
      "Requirement already satisfied: pure-eval in /opt/mamba/lib/python3.10/site-packages (from stack-data->ipython>=6.1.0->ipywidgets) (0.2.2)\n",
      "Requirement already satisfied: six>=1.12.0 in /opt/mamba/lib/python3.10/site-packages (from asttokens>=2.1.0->stack-data->ipython>=6.1.0->ipywidgets) (1.16.0)\n"
     ]
    }
   ],
   "source": [
    "!pip install --upgrade biopython nglview ipywidgets"
   ]
  },
  {
   "cell_type": "code",
   "execution_count": 15,
   "id": "cba2fd23-069e-4f9c-96a1-27534ab4b2ce",
   "metadata": {},
   "outputs": [
    {
     "name": "stdout",
     "output_type": "stream",
     "text": [
      "Found existing installation: nglview 3.0.8\n",
      "Uninstalling nglview-3.0.8:\n",
      "  Successfully uninstalled nglview-3.0.8\n",
      "Collecting nglview\n",
      "  Using cached nglview-3.0.8-py3-none-any.whl\n",
      "Requirement already satisfied: ipywidgets>=7 in /opt/mamba/lib/python3.10/site-packages (from nglview) (8.1.1)\n",
      "Requirement already satisfied: jupyterlab-widgets in /opt/mamba/lib/python3.10/site-packages (from nglview) (3.0.9)\n",
      "Requirement already satisfied: numpy in /opt/mamba/lib/python3.10/site-packages (from nglview) (1.26.0)\n",
      "Requirement already satisfied: comm>=0.1.3 in /opt/mamba/lib/python3.10/site-packages (from ipywidgets>=7->nglview) (0.1.4)\n",
      "Requirement already satisfied: ipython>=6.1.0 in /opt/mamba/lib/python3.10/site-packages (from ipywidgets>=7->nglview) (8.17.2)\n",
      "Requirement already satisfied: traitlets>=4.3.1 in /opt/mamba/lib/python3.10/site-packages (from ipywidgets>=7->nglview) (5.13.0)\n",
      "Requirement already satisfied: widgetsnbextension~=4.0.9 in /opt/mamba/lib/python3.10/site-packages (from ipywidgets>=7->nglview) (4.0.9)\n",
      "Requirement already satisfied: decorator in /opt/mamba/lib/python3.10/site-packages (from ipython>=6.1.0->ipywidgets>=7->nglview) (5.1.1)\n",
      "Requirement already satisfied: jedi>=0.16 in /opt/mamba/lib/python3.10/site-packages (from ipython>=6.1.0->ipywidgets>=7->nglview) (0.19.1)\n",
      "Requirement already satisfied: matplotlib-inline in /opt/mamba/lib/python3.10/site-packages (from ipython>=6.1.0->ipywidgets>=7->nglview) (0.1.6)\n",
      "Requirement already satisfied: prompt-toolkit!=3.0.37,<3.1.0,>=3.0.30 in /opt/mamba/lib/python3.10/site-packages (from ipython>=6.1.0->ipywidgets>=7->nglview) (3.0.41)\n",
      "Requirement already satisfied: pygments>=2.4.0 in /opt/mamba/lib/python3.10/site-packages (from ipython>=6.1.0->ipywidgets>=7->nglview) (2.17.0)\n",
      "Requirement already satisfied: stack-data in /opt/mamba/lib/python3.10/site-packages (from ipython>=6.1.0->ipywidgets>=7->nglview) (0.6.2)\n",
      "Requirement already satisfied: exceptiongroup in /opt/mamba/lib/python3.10/site-packages (from ipython>=6.1.0->ipywidgets>=7->nglview) (1.1.3)\n",
      "Requirement already satisfied: pexpect>4.3 in /opt/mamba/lib/python3.10/site-packages (from ipython>=6.1.0->ipywidgets>=7->nglview) (4.8.0)\n",
      "Requirement already satisfied: parso<0.9.0,>=0.8.3 in /opt/mamba/lib/python3.10/site-packages (from jedi>=0.16->ipython>=6.1.0->ipywidgets>=7->nglview) (0.8.3)\n",
      "Requirement already satisfied: ptyprocess>=0.5 in /opt/mamba/lib/python3.10/site-packages (from pexpect>4.3->ipython>=6.1.0->ipywidgets>=7->nglview) (0.7.0)\n",
      "Requirement already satisfied: wcwidth in /opt/mamba/lib/python3.10/site-packages (from prompt-toolkit!=3.0.37,<3.1.0,>=3.0.30->ipython>=6.1.0->ipywidgets>=7->nglview) (0.2.10)\n",
      "Requirement already satisfied: executing>=1.2.0 in /opt/mamba/lib/python3.10/site-packages (from stack-data->ipython>=6.1.0->ipywidgets>=7->nglview) (2.0.1)\n",
      "Requirement already satisfied: asttokens>=2.1.0 in /opt/mamba/lib/python3.10/site-packages (from stack-data->ipython>=6.1.0->ipywidgets>=7->nglview) (2.4.1)\n",
      "Requirement already satisfied: pure-eval in /opt/mamba/lib/python3.10/site-packages (from stack-data->ipython>=6.1.0->ipywidgets>=7->nglview) (0.2.2)\n",
      "Requirement already satisfied: six>=1.12.0 in /opt/mamba/lib/python3.10/site-packages (from asttokens>=2.1.0->stack-data->ipython>=6.1.0->ipywidgets>=7->nglview) (1.16.0)\n",
      "Installing collected packages: nglview\n",
      "Successfully installed nglview-3.0.8\n"
     ]
    }
   ],
   "source": [
    "!pip uninstall nglview -y\n",
    "!pip install nglview\n"
   ]
  },
  {
   "cell_type": "code",
   "execution_count": 10,
   "id": "56853dfb-b045-4670-ad5a-f87f8d2c8efe",
   "metadata": {},
   "outputs": [],
   "source": [
    "from Bio.PDB import *\n",
    "import nglview as nv\n",
    "import ipywidgets"
   ]
  },
  {
   "cell_type": "code",
   "execution_count": 16,
   "id": "9cbabdec-0975-48a3-8b4f-dbf057cb4bfd",
   "metadata": {},
   "outputs": [],
   "source": [
    "cif_parser = MMCIFParser()\n",
    "structure = cif_parser.get_structure(\"6EBK\", \"/home/onyxia/work/TDA_Protein3D/data/AF-P04637-F1-model_v4.cif\")\n",
    "view = nv.show_biopython(structure)"
   ]
  },
  {
   "cell_type": "code",
   "execution_count": 17,
   "id": "2cf02fa9-cd52-4737-bf18-8fde193f0f44",
   "metadata": {},
   "outputs": [
    {
     "data": {
      "application/vnd.jupyter.widget-view+json": {
       "model_id": "c971192497994cdea55eb180758777fe",
       "version_major": 2,
       "version_minor": 0
      },
      "text/plain": [
       "NGLWidget()"
      ]
     },
     "metadata": {},
     "output_type": "display_data"
    }
   ],
   "source": [
    "view"
   ]
  },
  {
   "cell_type": "code",
   "execution_count": null,
   "id": "a16087cd-9c5b-4900-8e75-6d6643dfbb8e",
   "metadata": {},
   "outputs": [],
   "source": []
  }
 ],
 "metadata": {
  "kernelspec": {
   "display_name": "Python 3 (ipykernel)",
   "language": "python",
   "name": "python3"
  },
  "language_info": {
   "codemirror_mode": {
    "name": "ipython",
    "version": 3
   },
   "file_extension": ".py",
   "mimetype": "text/x-python",
   "name": "python",
   "nbconvert_exporter": "python",
   "pygments_lexer": "ipython3",
   "version": "3.10.13"
  }
 },
 "nbformat": 4,
 "nbformat_minor": 5
}
